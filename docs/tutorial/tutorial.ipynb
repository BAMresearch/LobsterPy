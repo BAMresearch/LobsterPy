{
 "cells": [
  {
   "cell_type": "markdown",
   "id": "a711d82b",
   "metadata": {},
   "source": [
    "# Python interface"
   ]
  },
  {
   "cell_type": "markdown",
   "id": "42969be6",
   "metadata": {},
   "source": [
    "## Using Analysis, Description class and automatic plotting\n",
    "\n",
    "For this tutorial we will use the [test data](https://github.com/JaGeo/LobsterPy/tests/test_data) available that can be downloaded from our git repository.\n",
    "\n",
    "Lets first import the necessary modules"
   ]
  },
  {
   "cell_type": "markdown",
   "id": "33ffc7dc",
   "metadata": {},
   "source": [
    "### Basic usage : Analysis, Description"
   ]
  },
  {
   "cell_type": "code",
   "execution_count": null,
   "id": "30e6f55a",
   "metadata": {
    "hide_input": false
   },
   "outputs": [],
   "source": [
    "import os\n",
    "from lobsterpy.cohp.analyze import Analysis\n",
    "from lobsterpy.cohp.describe import Description\n",
    "import warnings\n",
    "warnings.filterwarnings('ignore')"
   ]
  },
  {
   "cell_type": "code",
   "execution_count": null,
   "id": "2ca066a3",
   "metadata": {},
   "outputs": [],
   "source": [
    "# Directory of your VASP and Lobster computations\n",
    "directory = \"../../tests/test_data/CdF_comp_range/\"\n",
    "\n",
    "# Initialize Analysis object\n",
    "analyse = Analysis(\n",
    "    path_to_poscar=os.path.join(directory, \"POSCAR.gz\"),\n",
    "    path_to_icohplist=os.path.join(directory, \"ICOHPLIST.lobster.gz\"),\n",
    "    path_to_cohpcar=os.path.join(directory, \"COHPCAR.lobster.gz\"),\n",
    "    path_to_charge=os.path.join(directory, \"CHARGE.lobster.gz\"),\n",
    "    which_bonds=\"cation-anion\",\n",
    ")"
   ]
  },
  {
   "cell_type": "code",
   "execution_count": null,
   "id": "87f41407",
   "metadata": {},
   "outputs": [],
   "source": [
    "# Initialize Description object and get text description of the analysis\n",
    "describe = Description(analysis_object=analyse)\n",
    "describe.write_description()"
   ]
  },
  {
   "cell_type": "code",
   "execution_count": null,
   "id": "6a0e3916",
   "metadata": {},
   "outputs": [],
   "source": [
    "# Get static plots for relevant bonds\n",
    "describe.plot_cohps(ylim=[-10, 2], xlim=[-4, 4])"
   ]
  },
  {
   "cell_type": "code",
   "execution_count": null,
   "id": "89b6a906",
   "metadata": {},
   "outputs": [],
   "source": [
    "# Get interactive plots of relevant bonds, \n",
    "\n",
    "# Setting label_resolved arg to True will plot each COHP curve seperately, alongside summed COHP for the bonds.\n",
    "\n",
    "fig = describe.plot_interactive_cohps(label_resolved=True, hide=True)\n",
    "fig.show(renderer='notebook')"
   ]
  },
  {
   "cell_type": "code",
   "execution_count": null,
   "id": "3c695d06",
   "metadata": {},
   "outputs": [],
   "source": [
    "# Dict summarizing the automaitic analysis results\n",
    "analyse.condensed_bonding_analysis"
   ]
  },
  {
   "cell_type": "code",
   "execution_count": null,
   "id": "b079043b",
   "metadata": {},
   "outputs": [],
   "source": [
    "# Dict with bonds identified\n",
    "analyse.final_dict_bonds"
   ]
  },
  {
   "cell_type": "code",
   "execution_count": null,
   "id": "bcab3c31",
   "metadata": {},
   "outputs": [],
   "source": [
    "# Dict with ions and thier co-ordination environments\n",
    "analyse.final_dict_ions"
   ]
  },
  {
   "cell_type": "markdown",
   "id": "af3bba2b",
   "metadata": {},
   "source": [
    ":::{note}\n",
    "You can also perform automatic analysis using `COBICAR(ICOBILIST.lobster)` or `COOPCAR(ICOOPLIST.lobster)`. You would need to set `are_cobis`/`are_coops` to `True` depending on type of file you decide to analyze when you initialize Analysis object. And also change the default `noise_cutoff` value to 0.001 or lower as ICOOP and ICOBI have lower values. Below is an example code snippet\n",
    ":::\n",
    "\n",
    "```python\n",
    "analyse = Analysis(\n",
    "    path_to_poscar=os.path.join(directory, \"POSCAR.gz\"),\n",
    "    path_to_icohplist=os.path.join(directory, \"ICOBILIST.lobster.gz\"),\n",
    "    path_to_cohpcar=os.path.join(directory, \"COBICAR.lobster.gz\"),\n",
    "    path_to_charge=os.path.join(directory, \"CHARGE.lobster.gz\"),\n",
    "    which_bonds=\"cation-anion\",\n",
    "    are_cobis=True,\n",
    "    noise_cutoff=0.001,\n",
    ")\n",
    "```\n",
    "\n",
    "Rest of the things to access the results are same as above."
   ]
  },
  {
   "cell_type": "markdown",
   "id": "bb1c58c6",
   "metadata": {},
   "source": [
    "### Advanced usage : Analysis, Description"
   ]
  },
  {
   "cell_type": "markdown",
   "id": "de5ee6ab",
   "metadata": {},
   "source": [
    "LobsterPy, now also provides the possibility to also perform automatic orbialtwise analysis and plotting of COHPs, COBIs and COOPs. To switch on orbialtwise analysis, one needs to set `orbital_resolved` arg to `True`. By default orbitals contributing 5% or more relative to summed ICOHPs are considered in analysis. One can change this default threshold using `orbital_cutoff` argument. Here we will set this cutoff value to 3%"
   ]
  },
  {
   "cell_type": "code",
   "execution_count": null,
   "id": "ae5c791f",
   "metadata": {},
   "outputs": [],
   "source": [
    "analyse = Analysis(\n",
    "    path_to_poscar=os.path.join(directory, \"POSCAR.gz\"),\n",
    "    path_to_icohplist=os.path.join(directory, \"ICOHPLIST.lobster.gz\"),\n",
    "    path_to_cohpcar=os.path.join(directory, \"COHPCAR.lobster.gz\"),\n",
    "    path_to_charge=os.path.join(directory, \"CHARGE.lobster.gz\"),\n",
    "    which_bonds=\"cation-anion\",\n",
    "    orbital_resolved=True,\n",
    "    orbital_cutoff=0.03,\n",
    ")"
   ]
  },
  {
   "cell_type": "code",
   "execution_count": null,
   "id": "468a2478",
   "metadata": {},
   "outputs": [],
   "source": [
    "# Access the dict summarizing the results including orbital wise analysis data \n",
    "analyse.condensed_bonding_analysis"
   ]
  },
  {
   "cell_type": "markdown",
   "id": "ea49c3d4",
   "metadata": {},
   "source": [
    "In the above ouput you will see, now a field named `orbital_data` associated to each relevant bond identified. The `orbital_summary_stats` field contains the orbitals that contribute the most to the bonding and antibonding interactions and values are reported there in percent."
   ]
  },
  {
   "cell_type": "markdown",
   "id": "90503028",
   "metadata": {},
   "source": [
    ":::{note}\n",
    "You can get plots from orbital resolved anaylsis only when `orbital_resolved` arg to `True` when initializing Analysis object. If this is not done, you will run into errors. Also only interactive plotter will plot the results of orbital resolved anaylsis as static plots will not be much readable. In anycase you can generate static plots if you need to, you will find how to use the plotters below in the tutorial\n",
    ":::"
   ]
  },
  {
   "cell_type": "code",
   "execution_count": null,
   "id": "2df4b44a",
   "metadata": {},
   "outputs": [],
   "source": [
    "# Initialize Description object\n",
    "describe = Description(analysis_object=analyse)\n",
    "describe.write_description()"
   ]
  },
  {
   "cell_type": "code",
   "execution_count": null,
   "id": "15606ec3",
   "metadata": {},
   "outputs": [],
   "source": [
    "# Automatic interactive plots\n",
    "fig = describe.plot_interactive_cohps(orbital_resolved=True, ylim=[-15,5], hide=True)\n",
    "fig.show(renderer='notebook')"
   ]
  },
  {
   "cell_type": "markdown",
   "id": "c1b80a34",
   "metadata": {},
   "source": [
    "#### Get LOBSTER calculation quality and description"
   ]
  },
  {
   "cell_type": "code",
   "execution_count": null,
   "id": "a968f712",
   "metadata": {},
   "outputs": [],
   "source": [
    "# Directory to your VASP and Lobster computations\n",
    "directory = \"../../tests/test_data/K3Sb/\""
   ]
  },
  {
   "cell_type": "code",
   "execution_count": null,
   "id": "87a8eb35",
   "metadata": {},
   "outputs": [],
   "source": [
    "# Get calculation quality summary dict\n",
    "calc_quality_K3Sb = Analysis.get_lobster_calc_quality_summary(\n",
    "            path_to_poscar=os.path.join(directory, \"POSCAR.gz\"),\n",
    "            path_to_charge=os.path.join(directory, \"CHARGE.lobster.gz\"),\n",
    "            path_to_lobsterin=os.path.join(directory,\"lobsterin.gz\"),\n",
    "            path_to_lobsterout=os.path.join(directory,\"lobsterout.gz\"),\n",
    "            potcar_symbols=[\"K_sv\", \"Sb\"], # if POTCAR exists, then provide path_to_potcar and set this to None \n",
    "            path_to_bandoverlaps=os.path.join(directory,\"bandOverlaps.lobster.gz\"),\n",
    "            dos_comparison=True, # set to false to disable DOS comparisons \n",
    "            bva_comp=True, # set to false to disable LOBSTER charge classification comparisons with BVA method\n",
    "            path_to_doscar=os.path.join(directory,\"DOSCAR.LSO.lobster.gz\"),\n",
    "            e_range=[-20, 0],\n",
    "            path_to_vasprun=os.path.join(directory,\"vasprun.xml.gz\"),\n",
    "            n_bins=256,\n",
    "        )\n",
    "calc_quality_K3Sb"
   ]
  },
  {
   "cell_type": "code",
   "execution_count": null,
   "id": "8bca8893",
   "metadata": {},
   "outputs": [],
   "source": [
    "# Get a text description from calculation quality summary dictionary\n",
    "calc_quality_k3sb_des = Description.get_calc_quality_description(\n",
    "            calc_quality_K3Sb\n",
    "        )\n",
    "Description.write_calc_quality_description(calc_quality_k3sb_des)"
   ]
  },
  {
   "cell_type": "markdown",
   "id": "952f79a1",
   "metadata": {},
   "source": [
    "## Using plotting utilities"
   ]
  },
  {
   "cell_type": "code",
   "execution_count": null,
   "id": "240ae59d",
   "metadata": {},
   "outputs": [],
   "source": [
    "from matplotlib import style\n",
    "from pymatgen.io.lobster import Doscar\n",
    "from lobsterpy.plotting import InteractiveCohpPlotter, PlainCohpPlotter, PlainDosPlotter, get_style_list"
   ]
  },
  {
   "cell_type": "markdown",
   "id": "5a0318f2",
   "metadata": {},
   "source": [
    "You can alter the apperance of the static plots using the style sheet that comes with LobsterPy or use any of the readily available matplotlib style sheets"
   ]
  },
  {
   "cell_type": "markdown",
   "id": "affedb37",
   "metadata": {},
   "source": [
    "### Plot COHPs / COBIS / COOPs from Analysis object\n",
    "\n",
    "It is important the `are_cobis`/`are_coops` args are set to `True` in the plotter depending on type of files you analyzed or want to plot. Here we will keep them false are we are plotting COHPs"
   ]
  },
  {
   "cell_type": "code",
   "execution_count": null,
   "id": "3da81099",
   "metadata": {},
   "outputs": [],
   "source": [
    "# Using PlainCohpPlotter to get static plots of relevant bonds from Analysis object\n",
    "\n",
    "style.use(get_style_list()[0]) # Use the LobsterPy style sheet for the generated plots\n",
    "\n",
    "cohp_plot_static = PlainCohpPlotter(are_cobis=False, are_coops=False)\n",
    "for plot_label, label_list in analyse.get_site_bond_resolved_labels().items():\n",
    "    cohp = analyse.chemenv.completecohp.get_summed_cohp_by_label_list(label_list=label_list)\n",
    "    cohp_plot_static.add_cohp(plot_label, cohp)\n",
    "cohp_plot_static.get_plot(ylim=[-15,2]);"
   ]
  },
  {
   "cell_type": "markdown",
   "id": "ee858f84",
   "metadata": {},
   "source": [
    ":::{note}\n",
    "You can get plots from orbital resolved anaylsis only when `orbital_resolved` arg is set to `True` when initializing Analysis object.\n",
    ":::"
   ]
  },
  {
   "cell_type": "code",
   "execution_count": null,
   "id": "b01bf48a",
   "metadata": {},
   "outputs": [],
   "source": [
    "# Using PlainCohpPlotter to get static plots of relevant orbitals COHPs from Analysis object\n",
    "\n",
    "style.use('default') # Complete reset the matplotlib figure style\n",
    "style.use('seaborn-v0_8-ticks') # use exsiting matplotlib style\n",
    "\n",
    "cohp_plot_static = PlainCohpPlotter()\n",
    "for plot_label , orb_data in analyse.get_site_orbital_resolved_labels().items():\n",
    "    for orb, label_list in orb_data.items():\n",
    "        cohp = analyse.chemenv.completecohp.get_summed_cohp_by_label_and_orbital_list(label_list=label_list, \n",
    "                                                                                      orbital_list=[orb]*len(label_list))\n",
    "        cohp_plot_static.add_cohp(orb, cohp)\n",
    "cohp_plot_static.get_plot(ylim=[-15,2]);"
   ]
  },
  {
   "cell_type": "code",
   "execution_count": null,
   "id": "866cd67a",
   "metadata": {},
   "outputs": [],
   "source": [
    "# Using interactive plotter to add relevant cohps\n",
    "interactive_cohp_plot = InteractiveCohpPlotter()"
   ]
  },
  {
   "cell_type": "code",
   "execution_count": null,
   "id": "60f64578",
   "metadata": {},
   "outputs": [],
   "source": [
    "interactive_cohp_plot.add_all_relevant_cohps(analyse=analyse, label_resolved=False,orbital_resolved=True,suffix='')"
   ]
  },
  {
   "cell_type": "code",
   "execution_count": null,
   "id": "b180bdfe",
   "metadata": {},
   "outputs": [],
   "source": [
    "fig = interactive_cohp_plot.get_plot()\n",
    "fig.show(renderer='notebook')"
   ]
  },
  {
   "cell_type": "markdown",
   "id": "62780a77",
   "metadata": {},
   "source": [
    "### Plot DOS from Lobster"
   ]
  },
  {
   "cell_type": "code",
   "execution_count": null,
   "id": "b3a9758b",
   "metadata": {},
   "outputs": [],
   "source": [
    "# Load Lobster DOS\n",
    "dos = Doscar(doscar='../../tests/test_data/NaCl_comp_range/DOSCAR.lobster.gz',\n",
    "            structure_file='../../tests/test_data/NaCl_comp_range/POSCAR.gz')"
   ]
  },
  {
   "cell_type": "markdown",
   "id": "6b75cf61",
   "metadata": {},
   "source": [
    "Plot total, element and spd dos"
   ]
  },
  {
   "cell_type": "code",
   "execution_count": null,
   "id": "f0c863e3",
   "metadata": {
    "scrolled": false
   },
   "outputs": [],
   "source": [
    "style.use('default') # Complete reset the matplotlib figure style\n",
    "style.use(get_style_list()[0]) # Use the LobsterPy style sheet for the generated plots\n",
    "\n",
    "dos_plotter = PlainDosPlotter(summed=True, stack=False, sigma=None)\n",
    "dos_plotter.add_dos(dos=dos.completedos, label='Total DOS')\n",
    "dos_plotter.add_dos_dict(dos_dict=dos.completedos.get_element_dos()) # Add element dos\n",
    "dos_plotter.add_dos_dict(dos_dict=dos.completedos.get_spd_dos()) # add spd dos\n",
    "dos_plotter.get_plot(xlim=[-10, 3]);"
   ]
  },
  {
   "cell_type": "markdown",
   "id": "0c06ae48",
   "metadata": {},
   "source": [
    "Plotting DOS at particular site and orbital"
   ]
  },
  {
   "cell_type": "code",
   "execution_count": null,
   "id": "660b35ad",
   "metadata": {},
   "outputs": [],
   "source": [
    "dos_plotter = PlainDosPlotter(summed=True, stack=False, sigma=0.03)\n",
    "dos_plotter.add_site_orbital_dos(dos = dos.completedos, site_index=0, orbital='3s')\n",
    "dos_plotter.get_plot(xlim=[-10, 3]);"
   ]
  },
  {
   "cell_type": "markdown",
   "id": "b308aea8",
   "metadata": {},
   "source": [
    "## Use featurizer to extract LOBSTER bonding analysis data as feature for ML studies"
   ]
  },
  {
   "cell_type": "markdown",
   "id": "8ae894fc",
   "metadata": {},
   "source": [
    ":::{note}\n",
    "To use the batch featurizers, the path to parent directory containing LOBSTER calculation outputs needs to be provided. For example your directory structure needs to be like this: \n",
    "\n",
    "parent_dir/lobster_calc_output_dir_for_compound_1/\n",
    "parent_dir/lobster_calc_output_dir_for_compound_2/\n",
    "parent_dir/lobster_calc_output_dir_for_compound_3/\n",
    "\n",
    "the `lobster_calc_output_dir_for_compound_*` directory should contain all your LOBSTER outputs and POSCAR file.\n",
    "\n",
    "In such a case `path_to_lobster_calcs=\"parent_dir\"` needs to be set \n",
    ":::"
   ]
  },
  {
   "cell_type": "code",
   "execution_count": null,
   "id": "8882b3f5",
   "metadata": {},
   "outputs": [],
   "source": [
    "from lobsterpy.featurize.batch import BatchSummaryFeaturizer, BatchCoxxFingerprint"
   ]
  },
  {
   "cell_type": "markdown",
   "id": "8f6886ef",
   "metadata": {},
   "source": [
    "`BatchSummaryFeaturizer` provides an convenient way to directly extract summary stats in the form of pandas dataframe directly from LOBSTER calculation directory. The summary stats consist of following:\n",
    "\n",
    "1. ICOHP, bonding , antibonding percent (mean, min, max , standard deviation) of relevant bonds from LobsterPy analysis (Orbital wise anaylsis stats data can also be included : Optional)\n",
    "2. Weighted ICOHP ( ICOOP/ ICOBI : Optional)\n",
    "3. COHP center, width, skewness , kurtosis, edge (COOP/ COBI : Optional)\n",
    "4. Ionicity and Madelung energies for the structure based on Mulliken and Loewdin charges"
   ]
  },
  {
   "cell_type": "code",
   "execution_count": null,
   "id": "f4f0b721",
   "metadata": {},
   "outputs": [],
   "source": [
    "summary_features = BatchSummaryFeaturizer(\n",
    "            path_to_lobster_calcs=\"../../tests/test_data/Featurizer_test_data/Lobster_calcs\",\n",
    "            bonds=\"all\",\n",
    "            include_cobi_data=False,\n",
    "            include_coop_data=False,\n",
    "            e_range=[-15, 0],\n",
    "            n_jobs=3,\n",
    "        )"
   ]
  },
  {
   "cell_type": "code",
   "execution_count": null,
   "id": "823768ca",
   "metadata": {
    "scrolled": true
   },
   "outputs": [],
   "source": [
    "summary_features.get_df()"
   ]
  },
  {
   "cell_type": "markdown",
   "id": "54277969",
   "metadata": {},
   "source": [
    "`BatchCoxxFingerprint` provides an convenient way to directly generate fingerprint objects from COHP / COBI/ COOPCAR.lobster data. Generating fingerprints specificaly for `bonding`, `antibonding` and `overall` interactions is feasible. \n",
    "\n",
    "One can also generate a pair-wise fingerprint similarity matrix dataframe (currently only simple vector dot product or tanimoto index are implemented)"
   ]
  },
  {
   "cell_type": "code",
   "execution_count": null,
   "id": "37e0c3b9",
   "metadata": {},
   "outputs": [],
   "source": [
    "fp_cohp_bonding = BatchCoxxFingerprint(\n",
    "            path_to_lobster_calcs=\"../../tests/test_data/Featurizer_test_data/Lobster_calcs\",\n",
    "            e_range=[-15, 0], \n",
    "            feature_type=\"bonding\",\n",
    "            normalize=True, # affects the fingerprint similarity matrix computation\n",
    "            tanimoto=True, # affects the fingerprint similarity matrix computation\n",
    "            n_jobs=3,\n",
    "        fingerprint_for='cohp' # changing this to cobi/coop will result in reading cobicar/coopcar file\n",
    "        )"
   ]
  },
  {
   "cell_type": "code",
   "execution_count": null,
   "id": "3b958625",
   "metadata": {},
   "outputs": [],
   "source": [
    "# Access fingerprint dataframe\n",
    "fp_cohp_bonding.fingerprint_df"
   ]
  },
  {
   "cell_type": "code",
   "execution_count": null,
   "id": "b9ad30a1",
   "metadata": {},
   "outputs": [],
   "source": [
    "# Get fingerprint similarity matrix\n",
    "fp_cohp_bonding.get_similarity_matrix_df()"
   ]
  },
  {
   "cell_type": "markdown",
   "id": "b3579e53",
   "metadata": {},
   "source": [
    "## Generate structure graph objects with LOBSTER data"
   ]
  },
  {
   "cell_type": "code",
   "execution_count": null,
   "id": "07b0a7ed",
   "metadata": {},
   "outputs": [],
   "source": [
    "from lobsterpy.structuregraph.graph import LobsterGraph"
   ]
  },
  {
   "cell_type": "markdown",
   "id": "13e2e7e6",
   "metadata": {},
   "source": [
    "Below code snippet will generate a networkx graph object with ICOHP, ICOOP and ICOBI data as edge properites and charges as node properties."
   ]
  },
  {
   "cell_type": "code",
   "execution_count": null,
   "id": "6599b2ae",
   "metadata": {},
   "outputs": [],
   "source": [
    "graph_NaCl_all = LobsterGraph(\n",
    "    path_to_poscar=\"../../tests/test_data/NaCl_comp_range/POSCAR.gz\",\n",
    "    path_to_charge=\"../../tests/test_data/NaCl_comp_range/CHARGE.lobster.gz\",\n",
    "    path_to_cohpcar=\"../../tests/test_data/NaCl_comp_range/COHPCAR.lobster.gz\",\n",
    "    path_to_icohplist=\"../../tests/test_data/NaCl_comp_range/ICOHPLIST.lobster.gz\",\n",
    "    add_additional_data_sg=True,\n",
    "    path_to_icooplist=\"../../tests/test_data/NaCl_comp_range/ICOOPLIST.lobster.gz\",\n",
    "    path_to_icobilist=\"../../tests/test_data/NaCl_comp_range/ICOBILIST.lobster.gz\",\n",
    "    path_to_madelung=\"../../tests/test_data/NaCl_comp_range/MadelungEnergies.lobster.gz\",\n",
    "    which_bonds=\"all\",\n",
    "    start=None,\n",
    ")"
   ]
  },
  {
   "cell_type": "code",
   "execution_count": null,
   "id": "bd0a22d9",
   "metadata": {},
   "outputs": [],
   "source": [
    "graph_NaCl_all.sg.graph.nodes.data() # view node data"
   ]
  },
  {
   "cell_type": "code",
   "execution_count": null,
   "id": "1c1ea58f",
   "metadata": {
    "scrolled": false
   },
   "outputs": [],
   "source": [
    "graph_NaCl_all.sg.graph.edges.data() # view edge data"
   ]
  }
 ],
 "metadata": {
  "hide_input": false,
  "kernelspec": {
   "display_name": "Python 3 (ipykernel)",
   "language": "python",
   "name": "python3"
  },
  "language_info": {
   "codemirror_mode": {
    "name": "ipython",
    "version": 3
   },
   "file_extension": ".py",
   "mimetype": "text/x-python",
   "name": "python",
   "nbconvert_exporter": "python",
   "pygments_lexer": "ipython3",
   "version": "3.9.0"
  }
 },
 "nbformat": 4,
 "nbformat_minor": 5
}
