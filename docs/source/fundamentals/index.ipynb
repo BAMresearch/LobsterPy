{
 "cells": [
  {
   "cell_type": "markdown",
   "id": "e4746f4b",
   "metadata": {},
   "source": [
    "# Fundamental Aspects"
   ]
  },
  {
   "cell_type": "markdown",
   "id": "43408e8b",
   "metadata": {},
   "source": [
    "## Core machinery of LobsterPy automatic  analysis explained : Lobsterenv"
   ]
  },
  {
   "cell_type": "markdown",
   "id": "44546121",
   "metadata": {},
   "source": [
    "## Evaluating bonding and anti-bonding percentages"
   ]
  },
  {
   "cell_type": "markdown",
   "id": "6094b839",
   "metadata": {},
   "source": [
    "## Automatic orbital-wise analysis implementation"
   ]
  },
  {
   "cell_type": "markdown",
   "id": "6f631f31",
   "metadata": {},
   "source": [
    "## Featurizers implementation"
   ]
  }
 ],
 "metadata": {
  "hide_input": false,
  "kernelspec": {
   "display_name": "Python 3 (ipykernel)",
   "language": "python",
   "name": "python3"
  },
  "language_info": {
   "codemirror_mode": {
    "name": "ipython",
    "version": 3
   },
   "file_extension": ".py",
   "mimetype": "text/x-python",
   "name": "python",
   "nbconvert_exporter": "python",
   "pygments_lexer": "ipython3",
   "version": "3.9.0"
  }
 },
 "nbformat": 4,
 "nbformat_minor": 5
}
